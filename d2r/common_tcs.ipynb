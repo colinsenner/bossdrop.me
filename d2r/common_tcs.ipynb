{
 "cells": [
  {
   "cell_type": "code",
   "execution_count": null,
   "metadata": {},
   "outputs": [],
   "source": [
    "import json\n",
    "import os\n",
    "import itertools"
   ]
  },
  {
   "cell_type": "code",
   "execution_count": null,
   "metadata": {},
   "outputs": [],
   "source": [
    "bosses = None\n",
    "\n",
    "bosses_file = os.path.join(os.getcwd(), \"generated\", \"bosses.json\")\n",
    "with open(bosses_file, \"rt\", encoding='utf-8') as f:\n",
    "    bosses = json.load(f)"
   ]
  },
  {
   "cell_type": "code",
   "execution_count": null,
   "metadata": {},
   "outputs": [],
   "source": [
    "andariel = next(filter(lambda boss: boss['Id'] == 'andariel', bosses))"
   ]
  },
  {
   "cell_type": "code",
   "execution_count": null,
   "metadata": {},
   "outputs": [],
   "source": [
    "print(andariel['Id'])\n",
    "\n",
    "normal_tcs = andariel['tcs']\n",
    "nm_tcs = andariel['tcs(N)']\n",
    "hell_tcs = andariel['tcs(H)']"
   ]
  },
  {
   "cell_type": "code",
   "execution_count": null,
   "metadata": {},
   "outputs": [],
   "source": [
    "def get_common_items(tc_1, tc_2, tc_3):\n",
    "    intersection_1_2 = set(tc_1).intersection(tc_2)\n",
    "    intersection_1_3 = set(tc_1).intersection(tc_3)\n",
    "    common_items = set(intersection_1_2).intersection(intersection_1_3)\n",
    "\n",
    "    return common_items\n",
    "\n",
    "tc_1 = ['a', 'b', 'c']\n",
    "tc_2 = ['a', 'd', 'e']\n",
    "tc_3 = ['a', 'f', 'g']\n",
    "\n",
    "print(get_common_items(tc_1, tc_2, tc_3))\n",
    "print(get_common_items(tc_1, tc_3, tc_2))\n",
    "print(get_common_items(tc_2, tc_1, tc_3))\n",
    "print(get_common_items(tc_2, tc_3, tc_1))\n",
    "print(get_common_items(tc_3, tc_1, tc_2))\n",
    "print(get_common_items(tc_3, tc_2, tc_1))"
   ]
  },
  {
   "cell_type": "code",
   "execution_count": 25,
   "metadata": {},
   "outputs": [
    {
     "name": "stdout",
     "output_type": "stream",
     "text": [
      "Common items: [1]\n",
      "list1 items: [2, 3]\n",
      "list2 items: [4, 5]\n",
      "list3 items: [6, 7]\n"
     ]
    }
   ],
   "source": [
    "def get_common_items_all(lists):\n",
    "    result = set(lists[0])\n",
    "    for s in lists[1:]:\n",
    "        result.intersection_update(s)\n",
    "    return list(result)\n",
    "\n",
    "def get_unique_items(src_list, items_to_remove):\n",
    "    return [item for item in src_list if item not in items_to_remove]\n",
    "\n",
    "list1 = [1,2,3]\n",
    "list2 = [1,4,5]\n",
    "list3 = [1,6,7]\n",
    "\n",
    "all_lists = [list1, list2, list3]\n",
    "\n",
    "common = get_common_items_all(all_lists)\n",
    "list1 = get_unique_items(list1, common)\n",
    "list2 = get_unique_items(list2, common)\n",
    "list3 = get_unique_items(list3, common)\n",
    "\n",
    "print(f\"Common items: {common}\")\n",
    "print(f\"list1 items: {list1}\")\n",
    "print(f\"list2 items: {list2}\")\n",
    "print(f\"list3 items: {list3}\")\n"
   ]
  }
 ],
 "metadata": {
  "interpreter": {
   "hash": "e7c37ba80a6e54a3d63188245ab5de6a3e0d381993bcb1990a7020536fc2299e"
  },
  "kernelspec": {
   "display_name": "Python 3.6.8 64-bit",
   "language": "python",
   "name": "python3"
  },
  "language_info": {
   "codemirror_mode": {
    "name": "ipython",
    "version": 3
   },
   "file_extension": ".py",
   "mimetype": "text/x-python",
   "name": "python",
   "nbconvert_exporter": "python",
   "pygments_lexer": "ipython3",
   "version": "3.6.8"
  },
  "orig_nbformat": 4
 },
 "nbformat": 4,
 "nbformat_minor": 2
}
