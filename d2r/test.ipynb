{
 "cells": [
  {
   "cell_type": "code",
   "execution_count": 1,
   "metadata": {},
   "outputs": [],
   "source": [
    "import pandas as pd\n",
    "import pathlib\n",
    "import os\n",
    "\n",
    "version = \"2.7.0\"\n",
    "filename = \"uniqueitems.txt\"\n",
    "\n",
    "def get_data_dir():\n",
    "    return os.path.join(os.getcwd(), \"data\")\n",
    "\n",
    "def get_excel_dir(version):\n",
    "    return pathlib.Path(get_data_dir(), version, \"data\", \"data\", \"global\", \"excel\")\n",
    "\n",
    "df = pd.read_csv(os.path.join(get_excel_dir(version), filename), sep='\\t')"
   ]
  },
  {
   "cell_type": "code",
   "execution_count": 23,
   "metadata": {},
   "outputs": [],
   "source": [
    "df.loc[df['index'] == \"Annihilus\", \"enabled\"] = 0.69\n"
   ]
  },
  {
   "cell_type": "code",
   "execution_count": 24,
   "metadata": {},
   "outputs": [
    {
     "data": {
      "text/html": [
       "<div>\n",
       "<style scoped>\n",
       "    .dataframe tbody tr th:only-of-type {\n",
       "        vertical-align: middle;\n",
       "    }\n",
       "\n",
       "    .dataframe tbody tr th {\n",
       "        vertical-align: top;\n",
       "    }\n",
       "\n",
       "    .dataframe thead th {\n",
       "        text-align: right;\n",
       "    }\n",
       "</style>\n",
       "<table border=\"1\" class=\"dataframe\">\n",
       "  <thead>\n",
       "    <tr style=\"text-align: right;\">\n",
       "      <th></th>\n",
       "      <th>index</th>\n",
       "      <th>*ID</th>\n",
       "      <th>version</th>\n",
       "      <th>enabled</th>\n",
       "      <th>firstLadderSeason</th>\n",
       "      <th>lastLadderSeason</th>\n",
       "      <th>rarity</th>\n",
       "      <th>nolimit</th>\n",
       "      <th>lvl</th>\n",
       "      <th>lvl req</th>\n",
       "      <th>...</th>\n",
       "      <th>prop11</th>\n",
       "      <th>par11</th>\n",
       "      <th>min11</th>\n",
       "      <th>max11</th>\n",
       "      <th>prop12</th>\n",
       "      <th>par12</th>\n",
       "      <th>min12</th>\n",
       "      <th>max12</th>\n",
       "      <th>diablocloneweight</th>\n",
       "      <th>*eol</th>\n",
       "    </tr>\n",
       "  </thead>\n",
       "  <tbody>\n",
       "    <tr>\n",
       "      <th>382</th>\n",
       "      <td>Annihilus</td>\n",
       "      <td>381.0</td>\n",
       "      <td>100.0</td>\n",
       "      <td>0.69</td>\n",
       "      <td>NaN</td>\n",
       "      <td>NaN</td>\n",
       "      <td>1.0</td>\n",
       "      <td>NaN</td>\n",
       "      <td>110.0</td>\n",
       "      <td>70.0</td>\n",
       "      <td>...</td>\n",
       "      <td>NaN</td>\n",
       "      <td>NaN</td>\n",
       "      <td>NaN</td>\n",
       "      <td>NaN</td>\n",
       "      <td>NaN</td>\n",
       "      <td>NaN</td>\n",
       "      <td>NaN</td>\n",
       "      <td>NaN</td>\n",
       "      <td>NaN</td>\n",
       "      <td>0</td>\n",
       "    </tr>\n",
       "  </tbody>\n",
       "</table>\n",
       "<p>1 rows × 72 columns</p>\n",
       "</div>"
      ],
      "text/plain": [
       "         index    *ID  version  enabled  firstLadderSeason  lastLadderSeason  \\\n",
       "382  Annihilus  381.0    100.0     0.69                NaN               NaN   \n",
       "\n",
       "     rarity  nolimit    lvl  lvl req  ... prop11 par11  min11  max11  prop12  \\\n",
       "382     1.0      NaN  110.0     70.0  ...    NaN   NaN    NaN    NaN     NaN   \n",
       "\n",
       "    par12 min12 max12 diablocloneweight *eol  \n",
       "382   NaN   NaN   NaN               NaN    0  \n",
       "\n",
       "[1 rows x 72 columns]"
      ]
     },
     "execution_count": 24,
     "metadata": {},
     "output_type": "execute_result"
    }
   ],
   "source": [
    "df.loc[df['index'] == \"Annihilus\"]"
   ]
  },
  {
   "cell_type": "code",
   "execution_count": null,
   "metadata": {},
   "outputs": [],
   "source": []
  }
 ],
 "metadata": {
  "kernelspec": {
   "display_name": "Python 3",
   "language": "python",
   "name": "python3"
  },
  "language_info": {
   "codemirror_mode": {
    "name": "ipython",
    "version": 3
   },
   "file_extension": ".py",
   "mimetype": "text/x-python",
   "name": "python",
   "nbconvert_exporter": "python",
   "pygments_lexer": "ipython3",
   "version": "3.11.9"
  }
 },
 "nbformat": 4,
 "nbformat_minor": 2
}
